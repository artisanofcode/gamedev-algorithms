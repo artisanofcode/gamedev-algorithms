{
 "cells": [
  {
   "cell_type": "markdown",
   "metadata": {},
   "source": [
    "# Procedural generation\n",
    "\n",
    "A notebook for poking at procedural generation techniques.\n",
    "\n",
    "**TODO:**\n",
    "- delunay triangulation\n",
    "- minimal spanning trees\n",
    "- voronoi cells\n",
    "- diffusion-limited aggregation\n",
    "- maze generation algorithms\n",
    "- wave function collapse\n",
    "- biome mapping\n",
    "- unreachable area culling\n",
    "- varied tunnels"
   ]
  },
  {
   "cell_type": "markdown",
   "metadata": {},
   "source": [
    "## Setup\n",
    "\n",
    "This section sets things used later by the generators we use later in the notebook."
   ]
  },
  {
   "cell_type": "markdown",
   "metadata": {},
   "source": [
    "\n",
    "### Imports\n",
    "\n",
    "We use `numpy` and `matplotlib` for the rendering of the maps, and open simplex for noise\n",
    "generation."
   ]
  },
  {
   "cell_type": "code",
   "execution_count": 49,
   "metadata": {},
   "outputs": [],
   "source": [
    "# imports\n",
    "\n",
    "import copy\n",
    "import random\n",
    "import typing\n",
    "\n",
    "import matplotlib.pyplot\n",
    "import opensimplex\n"
   ]
  },
  {
   "cell_type": "markdown",
   "metadata": {},
   "source": [
    "### Constants\n",
    "\n",
    "Some constants used in the generators.\n",
    "\n",
    "* `WIDTH` and `HEIGHT` are the dimensions of the map.\n",
    "* `AIR` AND `WALL` are the tile values for air and wall tiles."
   ]
  },
  {
   "cell_type": "code",
   "execution_count": 50,
   "metadata": {},
   "outputs": [],
   "source": [
    "# constants\n",
    "\n",
    "WIDTH = 200\n",
    "HEIGHT = 200\n",
    "\n",
    "AIR = 1\n",
    "WALL = 0\n"
   ]
  },
  {
   "cell_type": "markdown",
   "metadata": {},
   "source": [
    "### Types\n",
    "\n",
    "The following are some simple types used in this notebook."
   ]
  },
  {
   "cell_type": "code",
   "execution_count": 51,
   "metadata": {},
   "outputs": [],
   "source": [
    "\n",
    "\n",
    "type Map = list[list[int]]\n",
    "\n",
    "\n",
    "type Rect = tuple[int, int, int, int]  # x, y, width, height\n"
   ]
  },
  {
   "cell_type": "markdown",
   "metadata": {},
   "source": [
    "#### Generator\n",
    "\n",
    "Generators are the main type used in this notebook. They are functions that when given\n",
    "a region of a map, will populate it with `WALL` and `AIR` tiles."
   ]
  },
  {
   "cell_type": "code",
   "execution_count": 52,
   "metadata": {},
   "outputs": [],
   "source": [
    "class Generator(typing.Protocol):\n",
    "    def __call__(\n",
    "        self,\n",
    "        data: Map,\n",
    "        x: int,\n",
    "        y: int,\n",
    "        width: int,\n",
    "        height: int,\n",
    "        rng: random.Random\n",
    "    ) -> None:\n",
    "        \"\"\"\n",
    "        Generator\n",
    "\n",
    "        :param data: map to draw on\n",
    "        :param x: x coordinate on the map\n",
    "        :param y: y coordinate on the map\n",
    "        :param width: width of the region\n",
    "        :param height: height of the region\n",
    "        :param rng: random number generator\n",
    "        \"\"\"\n"
   ]
  },
  {
   "cell_type": "markdown",
   "metadata": {},
   "source": [
    "#### Room generators\n",
    "\n",
    "Room generators are functions that return a set of rectangles representing rooms on\n",
    "a map. They are used in room based generation."
   ]
  },
  {
   "cell_type": "code",
   "execution_count": 53,
   "metadata": {},
   "outputs": [],
   "source": [
    "\n",
    "class RoomGenerator(typing.Protocol):\n",
    "    def __call__(\n",
    "        self,\n",
    "        x: int,\n",
    "        y: int,\n",
    "        width: int,\n",
    "        height: int,\n",
    "        rng: random.Random\n",
    "    ) -> list[Rect]:\n",
    "        \"\"\"\n",
    "        Room Generator\n",
    "\n",
    "        :param x: x coordinate on the map\n",
    "        :param y: y coordinate on the map\n",
    "        :param width: width of the region\n",
    "        :param height: height of the region\n",
    "        :param rng: random number generator\n",
    "\n",
    "        :return: list of room bounding boxes\n",
    "        \"\"\"\n"
   ]
  },
  {
   "cell_type": "markdown",
   "metadata": {},
   "source": [
    "#### Edge generators\n",
    "\n",
    "Edge generations are functions that return a set of edges corresponding to the indexes\n",
    "of the passed rooms, they represent the connections between rooms."
   ]
  },
  {
   "cell_type": "code",
   "execution_count": 54,
   "metadata": {},
   "outputs": [],
   "source": [
    "\n",
    "class EdgeGenerator(typing.Protocol):\n",
    "    def __call__(\n",
    "        self,\n",
    "        rooms: list[Rect],\n",
    "        rng: random.Random\n",
    "    ) -> list[tuple[int, int]]:\n",
    "        \"\"\"\n",
    "        Edge generator\n",
    "\n",
    "        :param rooms: list of room bounding boxes\n",
    "        :param rng: random number generator\n",
    "\n",
    "        :return: list of connections between rooms\n",
    "        \"\"\"\n"
   ]
  },
  {
   "cell_type": "markdown",
   "metadata": {},
   "source": [
    "#### Tunnel generator\n",
    "\n",
    "Tunnel generators are functions that will add air and wall tiles to the map to form \n",
    "tunnels between the center points of two rooms.\n",
    "\n",
    "They generate the tunnels for the edges generated by the edge generators."
   ]
  },
  {
   "cell_type": "code",
   "execution_count": 55,
   "metadata": {},
   "outputs": [],
   "source": [
    "\n",
    "class TunnelGenerator(typing.Protocol):\n",
    "    def __call__(\n",
    "        self,\n",
    "        data: Map,\n",
    "        x1: int,\n",
    "        y1: int,\n",
    "        x2: int,\n",
    "        y2: int,\n",
    "        rng: random.Random\n",
    "    ) -> None:\n",
    "        \"\"\"\n",
    "        Tunnel generator\n",
    "\n",
    "        :param data: map to draw on\n",
    "        :param x1: x coordinate of the first room\n",
    "        :param y1: y coordinate of the first room\n",
    "        :param x2: x coordinate of the second room\n",
    "        :param y2: y coordinate of the second room\n",
    "        :param rng: random number generator\n",
    "        \"\"\"\n"
   ]
  },
  {
   "cell_type": "markdown",
   "metadata": {},
   "source": [
    "### Rendering\n",
    "\n",
    "This function renders a map, it takes a two dimensional list of tile values and a\n",
    "color map and renders the map with matplotlib.\n"
   ]
  },
  {
   "cell_type": "code",
   "execution_count": 56,
   "metadata": {},
   "outputs": [],
   "source": [
    "# render output\n",
    "\n",
    "def render(\n",
    "    generator: Generator,\n",
    "    colormap: typing.Optional[str] = \"binary_r\",\n",
    "    width: int = WIDTH,\n",
    "    height: int = HEIGHT,\n",
    ") -> None:\n",
    "    # generate the map using a seeded random number generator and a map of wall tiles\n",
    "    seed = random.randint(0, 2 ** 64 - 1)\n",
    "\n",
    "    rng = random.Random(seed)\n",
    "\n",
    "    data = []\n",
    "    for _ in range(height):\n",
    "        data.append([WALL] * width)\n",
    "\n",
    "    generator(data, 0, 0, width, height, rng)\n",
    "\n",
    "    # remove all the axis and cruft from the graph so we can use it to draw a map\n",
    "\n",
    "    _, axis = matplotlib.pyplot.subplots(figsize=(6, 6))\n",
    "\n",
    "    matplotlib.pyplot.cla()\n",
    "\n",
    "    axis.set_xticklabels([])\n",
    "    axis.set_yticklabels([])\n",
    "    axis.set_xticks([])\n",
    "    axis.set_yticks([])\n",
    "    axis.set_aspect('equal')\n",
    "    axis.spines[[\"top\", \"right\", \"bottom\", \"left\"]].set_visible(False)\n",
    "\n",
    "    axis.imshow(data, cmap=colormap, interpolation='nearest')\n"
   ]
  },
  {
   "cell_type": "markdown",
   "metadata": {},
   "source": [
    "### Helpers\n",
    "\n",
    "Some helper functions used by the generators."
   ]
  },
  {
   "cell_type": "markdown",
   "metadata": {},
   "source": [
    "#### Draw\n",
    "\n",
    "This function will draw a square of specified size onto the map at the given coordinates."
   ]
  },
  {
   "cell_type": "code",
   "execution_count": 57,
   "metadata": {},
   "outputs": [],
   "source": [
    "def draw(\n",
    "    data: Map,\n",
    "    x: int,\n",
    "    y: int,\n",
    "    value: int,\n",
    "    size: int = 1,\n",
    ") -> int:\n",
    "    height = len(data)\n",
    "    width = len(data[0]) if height else 0\n",
    "\n",
    "    origin_x = x - size // 2\n",
    "    origin_y = y - size // 2\n",
    "\n",
    "    result = 0\n",
    "\n",
    "    for nx in range(origin_x, origin_x + size):\n",
    "        for ny in range(origin_y, origin_y + size):\n",
    "            if nx < 0 or nx >= width or ny < 0 or ny >= height:\n",
    "                continue\n",
    "\n",
    "            if data[ny][nx] != value:\n",
    "                result += 1\n",
    "\n",
    "            data[ny][nx] = value\n",
    "\n",
    "    return result\n"
   ]
  },
  {
   "cell_type": "markdown",
   "metadata": {},
   "source": [
    "#### Neighbours for tile\n",
    "\n",
    "This function will count the number of neighbouring tiles in a 3x3 neighbourhood\n",
    "centred on the given coordinates that have a given value."
   ]
  },
  {
   "cell_type": "code",
   "execution_count": 58,
   "metadata": {},
   "outputs": [],
   "source": [
    "\n",
    "def neighbours_for(data: Map, x: int, y: int, value: int) -> int:\n",
    "    height = len(data)\n",
    "    width = len(data[0]) if height else 0\n",
    "\n",
    "    count = 0\n",
    "\n",
    "    for dx in range(-1, 2):\n",
    "        for dy in range(-1, 2):\n",
    "            nx = x + dx\n",
    "            ny = y + dy\n",
    "\n",
    "            if (\n",
    "                nx < 0 or\n",
    "                nx > width - 1 or\n",
    "                ny < 0 or\n",
    "                ny > height - 1 or\n",
    "                data[ny][nx] == value\n",
    "            ):\n",
    "                count += 1\n",
    "\n",
    "    return count\n"
   ]
  },
  {
   "cell_type": "markdown",
   "metadata": {},
   "source": [
    "#### Center for rect\n",
    "\n",
    "Calculates the approximate center point of a rectangle.\n"
   ]
  },
  {
   "cell_type": "code",
   "execution_count": 59,
   "metadata": {},
   "outputs": [],
   "source": [
    "\n",
    "def center_for_rect(\n",
    "    x: int,\n",
    "    y: int,\n",
    "    w: int,\n",
    "    h: int\n",
    ") -> tuple[int, int]:\n",
    "    # return the center of the rectangle\n",
    "\n",
    "    return (x + w // 2, y + h // 2)\n"
   ]
  },
  {
   "cell_type": "markdown",
   "metadata": {},
   "source": [
    "## Basic generators"
   ]
  },
  {
   "cell_type": "markdown",
   "metadata": {},
   "source": [
    "### Random Choice\n",
    "\n",
    "This example selects tiles to carve out at random. It is the most simple example of a\n",
    "procedurally generated map, but its result is chaotic and not interesting at all.\n",
    "\n",
    "Overall this is not a viable strategy."
   ]
  },
  {
   "cell_type": "code",
   "execution_count": 60,
   "metadata": {},
   "outputs": [
    {
     "data": {
      "image/png": "[encoded data removed]",
      "text/plain": [
       "<Figure size 600x600 with 1 Axes>"
      ]
     },
     "metadata": {},
     "output_type": "display_data"
    }
   ],
   "source": [
    "def generate_random(ratio: float = 0.5, value: int = AIR) -> Generator:\n",
    "\n",
    "    def generator(data: Map, x: int, y: int, width: int, height: int, rng: random.Random) -> None:\n",
    "        for ix in range(x, x + width):\n",
    "            for iy in range(y, y + height):\n",
    "                if rng.random() <= ratio:\n",
    "                    data[iy][ix] = value\n",
    "\n",
    "    return generator\n",
    "\n",
    "\n",
    "render(generate_random(ratio=0.5))\n"
   ]
  },
  {
   "cell_type": "markdown",
   "metadata": {},
   "source": [
    "### Random Placement\n",
    "\n",
    "This examples places random tiles on the map, it is effectively the same as the random\n",
    "choice generator, but will be faster for smaller fill ratios."
   ]
  },
  {
   "cell_type": "code",
   "execution_count": 61,
   "metadata": {},
   "outputs": [
    {
     "data": {
      "image/png": "[encoded data removed]",
      "text/plain": [
       "<Figure size 600x600 with 1 Axes>"
      ]
     },
     "metadata": {},
     "output_type": "display_data"
    }
   ],
   "source": [
    "\n",
    "def generate_random_placement(ratio: float = 0.5, value: int = AIR) -> Generator:\n",
    "\n",
    "    def generator(data: Map, x: int, y: int, width: int, height: int, rng: random.Random) -> None:\n",
    "        total = width * height\n",
    "        count = 0\n",
    "\n",
    "        while count / total < ratio:\n",
    "            x = rng.randint(0, width - 1)\n",
    "            y = rng.randint(0, height - 1)\n",
    "\n",
    "            if data[y][x] == WALL:\n",
    "                data[y][x] = value\n",
    "                count += 1\n",
    "\n",
    "    return generator\n",
    "\n",
    "\n",
    "render(generate_random_placement(ratio=0.5))\n"
   ]
  },
  {
   "cell_type": "markdown",
   "metadata": {},
   "source": [
    "### Simplex Noise\n",
    "\n",
    "[Simplex Noise](https://en.wikipedia.org/wiki/Simplex_noise) is a type of \n",
    "[gradient noise](https://en.wikipedia.org/wiki/Gradient_noise). It generates random\n",
    "values that tend to be more similar to their neighbours than value noise, which makes\n",
    "things look smoother and more natural.\n",
    "\n",
    "By rounding the values generated by a gradient noise function we get a map that is more\n",
    "interesting with smooth natural looking edges.\n",
    "\n",
    "The downside is that the carved out areas are not contiguous, which makes the strategy\n",
    "unviable on its own, but could potentially be combined with some form of tunnel carving\n",
    "to provide a viable map."
   ]
  },
  {
   "cell_type": "code",
   "execution_count": 62,
   "metadata": {},
   "outputs": [
    {
     "data": {
      "image/png": "[encoded data removed]",
      "text/plain": [
       "<Figure size 600x600 with 1 Axes>"
      ]
     },
     "metadata": {},
     "output_type": "display_data"
    }
   ],
   "source": [
    "def generate_simplex(scale: float = 0.1) -> Generator:\n",
    "\n",
    "    def generator(data: Map, x: int, y: int, width: int, height: int, rng: random.Random) -> None:\n",
    "        generator = opensimplex.OpenSimplex(rng.randint(0, 2 ** 64 - 1))\n",
    "\n",
    "        for ix in range(x, x + width):\n",
    "            for iy in range(y, y + height):\n",
    "                if generator.noise2(ix * scale, iy * scale) > 0:\n",
    "                    data[iy][ix] = AIR\n",
    "\n",
    "    return generator\n",
    "\n",
    "\n",
    "render(generate_simplex(scale=0.1))\n"
   ]
  },
  {
   "cell_type": "markdown",
   "metadata": {},
   "source": [
    "### Drunkards Walk\n",
    "\n",
    "The drunkards walk algorithm is a type of random walk, where an miner moves in a random\n",
    "direction each step, carving out the map as it goes, until it ultimately passes out and\n",
    "a new miner is spawned at the start point."
   ]
  },
  {
   "cell_type": "code",
   "execution_count": 63,
   "metadata": {},
   "outputs": [
    {
     "data": {
      "image/png": "[encoded data removed]",
      "text/plain": [
       "<Figure size 600x600 with 1 Axes>"
      ]
     },
     "metadata": {},
     "output_type": "display_data"
    },
    {
     "data": {
      "image/png": "[encoded data removed]",
      "text/plain": [
       "<Figure size 600x600 with 1 Axes>"
      ]
     },
     "metadata": {},
     "output_type": "display_data"
    }
   ],
   "source": [
    "def generate_drunkard(ratio: float = 0.25, max_steps: int = 50000, size: int = 3, value: int = AIR) -> Generator:\n",
    "\n",
    "    def generator(data: Map, x: int, y: int, width: int, height: int, rng: random.Random) -> None:\n",
    "        total = width * height\n",
    "        count = 0\n",
    "\n",
    "        defaults = (x + width // 2, y + height // 2, max_steps)\n",
    "\n",
    "        ix, iy, steps = defaults\n",
    "\n",
    "        while count / total < ratio:\n",
    "            count += draw(data, ix, iy, value, size)\n",
    "\n",
    "            match rng.randint(0, 3):\n",
    "                case 0:\n",
    "                    ix += 1\n",
    "                case 1:\n",
    "                    ix -= 1\n",
    "                case 2:\n",
    "                    iy += 1\n",
    "                case 3:\n",
    "                    iy -= 1\n",
    "\n",
    "            ix = max(x, min(x + width - 1, ix))\n",
    "            iy = max(y, min(y + height - 1, iy))\n",
    "\n",
    "            steps -= 1\n",
    "\n",
    "            if steps == 0:\n",
    "                ix, iy, steps = defaults\n",
    "\n",
    "    return generator\n",
    "\n",
    "\n",
    "render(generate_drunkard(ratio=0.25, max_steps=4000, size=3))\n",
    "\n",
    "\n",
    "render(generate_drunkard(ratio=0.25, max_steps=40000, size=3))\n",
    "\n",
    "# generate_drunkard(get_seed(), ratio=0.25, max_steps=50000, size=3)\n"
   ]
  },
  {
   "cell_type": "markdown",
   "metadata": {},
   "source": [
    "### Framed\n",
    "\n",
    "A simple generator that adds a frame to the output of an existing generator."
   ]
  },
  {
   "cell_type": "code",
   "execution_count": 64,
   "metadata": {},
   "outputs": [
    {
     "data": {
      "image/png": "[encoded data removed]",
      "text/plain": [
       "<Figure size 600x600 with 1 Axes>"
      ]
     },
     "metadata": {},
     "output_type": "display_data"
    }
   ],
   "source": [
    "def generate_frame(inner: Generator, size: int = 1, value: int = WALL) -> Generator:\n",
    "\n",
    "    def generator(data: Map, x: int, y: int, width: int, height: int, rng: random.Random) -> None:\n",
    "        inner(data, x, y, width, height, rng)\n",
    "\n",
    "        for ix in range(x, x + width):\n",
    "            for iy in range(y, y + height):\n",
    "                if ix < size or ix >= width - size or iy < size or iy >= height - size:\n",
    "                    data[iy][ix] = value\n",
    "\n",
    "    return generator\n",
    "\n",
    "\n",
    "render(generate_frame(generate_random(ratio=0.75), size=2))\n"
   ]
  },
  {
   "cell_type": "markdown",
   "metadata": {},
   "source": [
    "### Filled\n",
    "\n",
    "A simple generator that fills the map with a single tile value. In isolation this is\n",
    "possibly the least interesting of all generators."
   ]
  },
  {
   "cell_type": "code",
   "execution_count": 65,
   "metadata": {},
   "outputs": [
    {
     "data": {
      "image/png": "[encoded data removed]",
      "text/plain": [
       "<Figure size 600x600 with 1 Axes>"
      ]
     },
     "metadata": {},
     "output_type": "display_data"
    }
   ],
   "source": [
    "def generate_fill(value: int = AIR) -> Generator:\n",
    "\n",
    "    def generator(data: Map, x: int, y: int, width: int, height: int, rng: random.Random) -> None:\n",
    "        for ix in range(x, x + width):\n",
    "            for iy in range(y, y + height):\n",
    "                data[iy][ix] = value\n",
    "\n",
    "    return generator\n",
    "\n",
    "\n",
    "render(generate_frame(generate_fill()))\n"
   ]
  },
  {
   "cell_type": "markdown",
   "metadata": {},
   "source": [
    "### Cellular Automata\n",
    "\n",
    "Cellular automata are most famously used in conway's game of life, the map is iteratively\n",
    "transformed based on some simple rules about the neighbourhood of 9 tiles it belongs to.\n",
    "\n",
    "When fed a random map, the automata will carve out interesting patterns, but the results \n",
    "are not always contiguous spaces.\n",
    "\n",
    "The automata also tend to have a smoothing on the output of other generators."
   ]
  },
  {
   "cell_type": "code",
   "execution_count": 66,
   "metadata": {},
   "outputs": [
    {
     "data": {
      "image/png": "[encoded data removed]",
      "text/plain": [
       "<Figure size 600x600 with 1 Axes>"
      ]
     },
     "metadata": {},
     "output_type": "display_data"
    },
    {
     "data": {
      "image/png": "[encoded data removed]",
      "text/plain": [
       "<Figure size 600x600 with 1 Axes>"
      ]
     },
     "metadata": {},
     "output_type": "display_data"
    }
   ],
   "source": [
    "\n",
    "def generate_cellular_automata(\n",
    "    inner: Generator,\n",
    "    rounds: int = 5,\n",
    "    birth: int = 3,\n",
    "    death: int = 5,\n",
    "    alive: int = AIR,\n",
    "    dead: int = WALL,\n",
    ") -> Generator:\n",
    "\n",
    "    def generator(data: Map, x: int, y: int, width: int, height: int, rng: random.Random) -> None:\n",
    "        inner(data, x, y, width, height, rng)\n",
    "\n",
    "        for _ in range(rounds):\n",
    "            current = copy.deepcopy(data)\n",
    "\n",
    "            for ix in range(1, width - 1):\n",
    "                for iy in range(1, height - 1):\n",
    "                    count = neighbours_for(current, ix, iy, alive)\n",
    "\n",
    "                    if count < death:\n",
    "                        data[iy][ix] = dead\n",
    "\n",
    "                    if count > birth:\n",
    "                        data[iy][ix] = alive\n",
    "\n",
    "    return generator\n",
    "\n",
    "\n",
    "render(\n",
    "    generate_cellular_automata(\n",
    "        generate_frame(generate_random(ratio=0.45), size=2),\n",
    "        rounds=4,\n",
    "        birth=4,\n",
    "        death=3\n",
    "    )\n",
    ")\n",
    "\n",
    "render(\n",
    "    generate_cellular_automata(\n",
    "        generate_frame(generate_drunkard(\n",
    "            ratio=0.25, max_steps=4000, size=3), size=2),\n",
    "        rounds=4,\n",
    "        birth=4,\n",
    "        death=3,\n",
    "    )\n",
    ")\n"
   ]
  },
  {
   "cell_type": "markdown",
   "metadata": {},
   "source": [
    "## Room Based Generators\n",
    "\n",
    "Room based generators are a subset of procedural generation that generate maps by\n",
    "placing rooms, and then connecting them via corridors.\n",
    "\n",
    "They have an advantage over the basic generators in that the rooms can be used to\n",
    "more easily place place points of interest, but often have less variety in the shape.\n",
    "\n",
    "To generate a room based dungeon we first generate a set of non overlapping rectangles,\n",
    "and calculate the edges that connect them to other rooms, then we carve out the rooms\n",
    "and connect them with tunnels."
   ]
  },
  {
   "cell_type": "code",
   "execution_count": 67,
   "metadata": {},
   "outputs": [],
   "source": [
    "def generate_dungeon(\n",
    "    rooms: RoomGenerator,\n",
    "    edges: EdgeGenerator,\n",
    "    tunnels: TunnelGenerator,\n",
    "    inner: Generator = generate_fill()\n",
    ") -> Generator:\n",
    "\n",
    "    def generator(data: Map, x: int, y: int, width: int, height: int, rng: random.Random) -> None:\n",
    "        room_list = rooms(x, y, width, height, rng)\n",
    "        edge_list = edges(room_list, rng)\n",
    "\n",
    "        for x, y, w, h in room_list:\n",
    "            inner(data, x, y, w, h, rng)\n",
    "\n",
    "        for i, j in edge_list:\n",
    "            x1, y1 = center_for_rect(*room_list[i])\n",
    "            x2, y2 = center_for_rect(*room_list[j])\n",
    "\n",
    "            tunnels(data, x1, y1, x2, y2, rng)\n",
    "\n",
    "    return generator\n"
   ]
  },
  {
   "cell_type": "markdown",
   "metadata": {},
   "source": [
    "### Naive edge generator\n",
    "\n",
    "An edge generator that sorts a set of rooms by their x coordinate, and then connects them\n",
    "in order."
   ]
  },
  {
   "cell_type": "code",
   "execution_count": 68,
   "metadata": {},
   "outputs": [],
   "source": [
    "def edge_naive(rooms: list[Rect], rng: random.Random) -> list[tuple[int, int]]:\n",
    "    indexed = list(enumerate(rooms))\n",
    "\n",
    "    indexed.sort(key=lambda r: r[1][0])\n",
    "\n",
    "    return [(indexed[i][0], indexed[i + 1][0]) for i in range(len(rooms) - 1)]\n"
   ]
  },
  {
   "cell_type": "markdown",
   "metadata": {},
   "source": [
    "### Simple tunnel generator\n",
    "\n",
    "A tunnel generator that connects the centres of two rooms by moving once in a straight\n",
    "line along each of the cardinal axis."
   ]
  },
  {
   "cell_type": "code",
   "execution_count": 69,
   "metadata": {},
   "outputs": [],
   "source": [
    "def tunnel_simple(size: int = 3) -> TunnelGenerator:\n",
    "\n",
    "    def generator(data: Map, x1: int, y1: int, x2: int, y2: int, rng: random.Random) -> None:\n",
    "        if rng.randint(0, 1):\n",
    "            for x in range(min(x1, x2), max(x1, x2) + 1):\n",
    "                draw(data, x, y1, AIR, size)\n",
    "\n",
    "            for y in range(min(y1, y2), max(y1, y2) + 1):\n",
    "                draw(data, x2, y, AIR, size)\n",
    "        else:\n",
    "            for y in range(min(y1, y2), max(y1, y2) + 1):\n",
    "                draw(data, x1, y, AIR, size)\n",
    "\n",
    "            for x in range(min(x1, x2), max(x1, x2) + 1):\n",
    "                draw(data, x, y2, AIR, size)\n",
    "\n",
    "    return generator\n"
   ]
  },
  {
   "cell_type": "markdown",
   "metadata": {},
   "source": [
    "### Simple room generator\n",
    "\n",
    "A room generator that places rooms at random, discarding any that overlap."
   ]
  },
  {
   "cell_type": "code",
   "execution_count": 70,
   "metadata": {},
   "outputs": [
    {
     "data": {
      "image/png": "[encoded data removed]",
      "text/plain": [
       "<Figure size 600x600 with 1 Axes>"
      ]
     },
     "metadata": {},
     "output_type": "display_data"
    }
   ],
   "source": [
    "\n",
    "\n",
    "def room_random(count: int, min_width: int, min_height: int, max_width: int, max_height: int) -> RoomGenerator:\n",
    "\n",
    "    def generator(x: int, y: int, width: int, height: int, rng: random.Random) -> list[Rect]:\n",
    "        result = []\n",
    "\n",
    "        for _ in range(count):\n",
    "            iw = rng.randint(min_width, max_width + 1)\n",
    "            ih = rng.randint(min_height, max_height + 1)\n",
    "            ix = rng.randint(1, width - iw - 1)\n",
    "            iy = rng.randint(1, height - ih - 1)\n",
    "\n",
    "            if any(\n",
    "                ix < ox + ow + 1 and\n",
    "                ix + iw + 1 > ox and\n",
    "                iy < oy + oh + 1 and\n",
    "                iy + ih + 1 > oy\n",
    "                for ox, oy, ow, oh in result\n",
    "            ):\n",
    "                continue\n",
    "\n",
    "            result.append((ix, iy, iw, ih))\n",
    "\n",
    "        return result\n",
    "\n",
    "    return generator\n",
    "\n",
    "\n",
    "render(\n",
    "    generate_dungeon(\n",
    "        room_random(10, 25, 25, 40, 40),\n",
    "        edge_naive,\n",
    "        tunnel_simple(3),\n",
    "    )\n",
    ")\n"
   ]
  },
  {
   "cell_type": "markdown",
   "metadata": {},
   "source": [
    "### Binary Space Partitioning room generator\n",
    "\n",
    "This room generator uses binary space partitioning to generate a set of rectangles then\n",
    "randomly selects some of those rectangles to be rooms.\n",
    "\n",
    "The rectangles are produced by recursively splitting regions of the map in half along\n",
    "one of the cardinal axis until the regions are too small to be divided further.\n",
    "\n",
    "This makes it easier to the desired number of rooms, as assuming a sensible minimum size\n",
    "is specified to generate enough rectangles, the algorithm should be able place the \n",
    "desired number of rooms."
   ]
  },
  {
   "cell_type": "code",
   "execution_count": 71,
   "metadata": {},
   "outputs": [
    {
     "data": {
      "image/png": "[encoded data removed]",
      "text/plain": [
       "<Figure size 600x600 with 1 Axes>"
      ]
     },
     "metadata": {},
     "output_type": "display_data"
    }
   ],
   "source": [
    "def room_bsp(count: int, spacing: int = 1, min_width: int = 30, min_height: int = 30) -> RoomGenerator:\n",
    "\n",
    "    def generator(x: int, y: int, width: int, height: int, rng: random.Random) -> list[Rect]:\n",
    "        result = []\n",
    "\n",
    "        stack = [(x, y, width - spacing, height - spacing)]\n",
    "\n",
    "        while stack:\n",
    "            x, y, w, h = stack.pop()\n",
    "\n",
    "            if w < 2 * min_width + spacing and h < 2 * min_height + spacing:\n",
    "                result.append((x + spacing, y + spacing,\n",
    "                              w - spacing, h - spacing))\n",
    "\n",
    "                continue\n",
    "\n",
    "            if (rng.randint(0, 1) == 1 and w >= 2 * min_width + spacing) or h < 2 * min_height + spacing:\n",
    "                split = rng.randint(min_width, w - min_width)\n",
    "\n",
    "                stack.append((x, y, split, h))\n",
    "                stack.append((x + split, y, w - split, h))\n",
    "\n",
    "                continue\n",
    "\n",
    "            split = rng.randint(min_height, h - min_height)\n",
    "\n",
    "            stack.append((x, y, w, split))\n",
    "            stack.append((x, y + split, w, h - split))\n",
    "\n",
    "        if count < len(result):\n",
    "            result = rng.sample(result, count)\n",
    "\n",
    "        return result\n",
    "\n",
    "    return generator\n",
    "\n",
    "\n",
    "render(\n",
    "    generate_dungeon(\n",
    "        room_bsp(10, 10, min_width=25, min_height=25),\n",
    "        edge_naive,\n",
    "        tunnel_simple(size=3),\n",
    "    )\n",
    ")\n"
   ]
  },
  {
   "cell_type": "markdown",
   "metadata": {},
   "source": [
    "## Combined Generators"
   ]
  },
  {
   "cell_type": "markdown",
   "metadata": {},
   "source": [
    "### BSP + Drunkards Walk + Cellular Automata\n",
    "\n",
    "By combining BSP and Drunkards Walk we can get a map comprises of an interconnected set of caves.\n",
    "\n",
    "**TODO:** smarter edge and tunnel generators."
   ]
  },
  {
   "cell_type": "code",
   "execution_count": 72,
   "metadata": {},
   "outputs": [
    {
     "data": {
      "image/png": "[encoded data removed]",
      "text/plain": [
       "<Figure size 600x600 with 1 Axes>"
      ]
     },
     "metadata": {},
     "output_type": "display_data"
    }
   ],
   "source": [
    "render(\n",
    "    generate_cellular_automata(\n",
    "        generate_dungeon(\n",
    "            room_bsp(16, 10, min_width=100, min_height=100),\n",
    "            edge_naive,\n",
    "            tunnel_simple(size=3),\n",
    "            generate_drunkard(0.25, 1000, 3),\n",
    "        ),\n",
    "        rounds=10\n",
    "    ),\n",
    "    width=500,\n",
    "    height=500,\n",
    ")\n"
   ]
  }
 ],
 "metadata": {
  "kernelspec": {
   "display_name": "gamedev-notebooks-HokLQ05g-py3.12",
   "language": "python",
   "name": "python3"
  },
  "language_info": {
   "codemirror_mode": {
    "name": "ipython",
    "version": 3
   },
   "file_extension": ".py",
   "mimetype": "text/x-python",
   "name": "python",
   "nbconvert_exporter": "python",
   "pygments_lexer": "ipython3",
   "version": "3.12.8"
  }
 },
 "nbformat": 4,
 "nbformat_minor": 2
}
